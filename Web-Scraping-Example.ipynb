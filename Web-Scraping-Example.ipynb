{
 "cells": [
  {
   "cell_type": "markdown",
   "metadata": {},
   "source": [
    "# Web-Scraping-Example\n",
    "This notebook is a simple example showing how to scrape some information from the top 10 games from Jeff Gerstmann's *top 10 games of 2017* list on [giantbomb.com](https://www.giantbomb.com/articles/jeff-gerstmanns-top-10-games-of-2017/1100-5703/). "
   ]
  },
  {
   "cell_type": "markdown",
   "metadata": {},
   "source": [
    "<img src=\"img/top-10-header.jpg\">"
   ]
  },
  {
   "cell_type": "markdown",
   "metadata": {},
   "source": [
    "The information we want is actually the games and platforms from the top 10 list. This is contained in the headers for each game futher down the page."
   ]
  },
  {
   "cell_type": "markdown",
   "metadata": {},
   "source": [
    "<img src=\"img/top-10-item.jpg\">"
   ]
  },
  {
   "cell_type": "markdown",
   "metadata": {},
   "source": [
    "### Import libraries"
   ]
  },
  {
   "cell_type": "code",
   "execution_count": 2,
   "metadata": {},
   "outputs": [],
   "source": [
    "from bs4 import BeautifulSoup  \n",
    "import pandas as pd\n",
    "import requests"
   ]
  },
  {
   "cell_type": "markdown",
   "metadata": {},
   "source": [
    "### Read html into Python"
   ]
  },
  {
   "cell_type": "markdown",
   "metadata": {},
   "source": [
    "The headers argument below is to prevent *Wordpress RSS Reader, Anonymous Bot or Scraper Blocked* error when scraping from the website."
   ]
  },
  {
   "cell_type": "code",
   "execution_count": 3,
   "metadata": {},
   "outputs": [],
   "source": [
    "address = 'https://www.giantbomb.com/articles/jeff-gerstmanns-top-10-games-of-2017/1100-5703/'\n",
    "r = requests.get(address, headers = {'user-agent': 'rangell'})"
   ]
  },
  {
   "cell_type": "code",
   "execution_count": 4,
   "metadata": {},
   "outputs": [
    {
     "data": {
      "text/plain": [
       "'<!doctype html>\\n<html lang=\"en\" itemscope id=\"\" class=\"no-js no-touch \">\\n\\n<head><script type=\"text/javascript\">(window.NREUM||(NREUM={})).loader_config={xpid:\"Vg8OUFFACQQBUFVbDg==\"};window.NREUM||(NREUM={}),__nr_require=function(t,n,e){function r(e){if(!n[e]){var o=n[e]={exports:{}};t[e][0].call(o.exports,function(n){var o=t[e][1][n];return r(o||n)},o,o.exports)}return n[e].exports}if(\"function\"==typeof __nr_require)return __nr_require;for(var o=0;o<e.length;o++)r(e[o]);return r}({1:[function(t,n,e){function r(t){try{s.console&&console.log(t)}catch(n){}}var o,i=t(\"ee\"),a=t(15),s={};try{o=localStorage.getItem(\"__nr_flags\").split(\",\"),console&&\"function\"==typeof console.log&&(s.console=!0,o.indexOf(\"dev\")!==-1&&(s.dev=!0),o.indexOf(\"nr_dev\")!==-1&&(s.nrDev=!0))}catch(c){}s.nrDev&&i.on(\"internal-error\",function(t){r(t.stack)}),s.dev&&i.on(\"fn-err\",function(t,n,e){r(e.stack)}),s.dev&&(r(\"NR AGENT IN DEVELOPMENT MODE\"),r(\"flags: \"+a(s,function(t,n){return t}).join(\", \")))},{}],2:[function(t'"
      ]
     },
     "execution_count": 4,
     "metadata": {},
     "output_type": "execute_result"
    }
   ],
   "source": [
    "r.text[0:1000]"
   ]
  },
  {
   "cell_type": "markdown",
   "metadata": {},
   "source": [
    "### Parse html"
   ]
  },
  {
   "cell_type": "code",
   "execution_count": 5,
   "metadata": {},
   "outputs": [],
   "source": [
    "soup = BeautifulSoup(r.text, 'html.parser')  "
   ]
  },
  {
   "cell_type": "markdown",
   "metadata": {},
   "source": [
    "### Extract main body of the webpage\n",
    "Looking at the source code for the webpage; the \"div\" tag with the attribute \"js-content-entity-body\" seems to be the main body containing the headers we are after."
   ]
  },
  {
   "cell_type": "markdown",
   "metadata": {},
   "source": [
    "<img src=\"img/top-10-source.jpg\">"
   ]
  },
  {
   "cell_type": "markdown",
   "metadata": {},
   "source": [
    "This returns a lot of items from which we want to extract the headers - it is only converted to string to limit the amount printed to the notebook."
   ]
  },
  {
   "cell_type": "code",
   "execution_count": 6,
   "metadata": {},
   "outputs": [
    {
     "data": {
      "text/plain": [
       "'<div class=\"js-content-entity-body\">\\n<figure data-align=\"right\" data-embed-type=\"image\" data-img-src=\"https://static.giantbomb.com/uploads/original/0/9446/2862597-jeffe32016.gif\" data-ratio=\"0.75510204081633\" data-ref-id=\"1300-2862597\" data-size=\"medium\" data-width=\"294\" style=\"width: 294px\"><a class=\"fluid-height\" data-ref-id=\"1300-2862597\" href=\"https://static.giantbomb.com/uploads/original/0/9446/2862597-jeffe32016.gif\" style=\"padding-bottom:75.5%\"><img alt=\"No Caption Provided\" data-width=\"294\" sizes=\"(max-width: 294px) 100vw, 294px\" src=\"https://static.giantbomb.com/uploads/original/0/9446/2862597-jeffe32016.gif\" srcset=\"https://static.giantbomb.com/uploads/original/0/9446/2862597-jeffe32016.gif 294w\"/></a></figure><p><em><a href=\"http://twitter.com/jeffgerstmann\" rel=\"nofollow\">Jeff Gerstmann</a> is a professional car streamer and pillow enthusiast from Sonoma County, CA. His hobbies include sitting down and staring forward, macaroni and cheese, and thinking about (but not liste'"
      ]
     },
     "execution_count": 6,
     "metadata": {},
     "output_type": "execute_result"
    }
   ],
   "source": [
    "results = soup.find_all('div', attrs={'class':'js-content-entity-body'})  \n",
    "str(results)[1:1000]"
   ]
  },
  {
   "cell_type": "markdown",
   "metadata": {},
   "source": [
    "### Extract the headers from main body"
   ]
  },
  {
   "cell_type": "markdown",
   "metadata": {},
   "source": [
    "\"h3\" seems to indicate the headers containing the information we want to extract."
   ]
  },
  {
   "cell_type": "code",
   "execution_count": 7,
   "metadata": {},
   "outputs": [
    {
     "data": {
      "text/plain": [
       "[<h3>10. <a data-ref-id=\"3030-59450\" href=\"/assassins-creed-origins/3030-59450/\">Assassin's Creed Origins</a> (Xbox One X)</h3>,\n",
       " <h3>9. <a data-ref-id=\"3030-57687\" href=\"/splatoon-2/3030-57687/\">Splatoon 2</a> (Switch)</h3>,\n",
       " <h3>8. <a data-ref-id=\"3030-48255\" href=\"/heat-signature/3030-48255/\">Heat Signature</a> (PC)</h3>,\n",
       " <h3>7. <a data-ref-id=\"3030-51837\" href=\"/tekken-7-fated-retribution/3030-51837/\">Tekken 7 </a> (PS4, PC)</h3>,\n",
       " <h3>6. <a data-ref-id=\"3030-52647\" href=\"/destiny-2/3030-52647/\">Destiny 2</a> (PS4, PC)</h3>,\n",
       " <h3>5. <a data-ref-id=\"3030-59906\" href=\"/wolfenstein-ii-the-new-colossus/3030-59906/\">Wolfenstein II: The New Colossus</a> (Xbox One)</h3>,\n",
       " <h3>4. <a data-ref-id=\"3030-58593\" href=\"/steamworld-dig-2/3030-58593/\">SteamWorld Dig 2</a> (PC)</h3>,\n",
       " <h3>3. <a data-ref-id=\"3030-56733\" href=\"/super-mario-odyssey/3030-56733/\">Super Mario Odyssey</a> (Switch)</h3>,\n",
       " <h3>2. <a data-ref-id=\"3030-49998\" href=\"/nier-automata/3030-49998/\">NieR:Automata</a> (PC)</h3>,\n",
       " <h3>1. <a data-ref-id=\"3030-54979\" href=\"/playerunknowns-battlegrounds/3030-54979/\">PlayerUnknown's Battlegrounds</a> (PC)</h3>,\n",
       " <h3>The Rest</h3>]"
      ]
     },
     "execution_count": 7,
     "metadata": {},
     "output_type": "execute_result"
    }
   ],
   "source": [
    "headers = results[0].find_all('h3')\n",
    "headers"
   ]
  },
  {
   "cell_type": "markdown",
   "metadata": {},
   "source": [
    "### Extract info from headers\n",
    "Function is tailored to the header structures to extract the relevant information."
   ]
  },
  {
   "cell_type": "code",
   "execution_count": 8,
   "metadata": {},
   "outputs": [],
   "source": [
    "def extract_info(h):\n",
    "    header_text = h.text\n",
    "    game = h.find('a').text\n",
    "    data_ref_id = h.find('a')['data-ref-id']\n",
    "    href = h.find('a')['href']\n",
    "    rank = int(header_text.split(\".\")[0])\n",
    "    platform = header_text.split(\"(\")[1].replace(\")\", \"\")\n",
    "    return([rank, game, platform, data_ref_id, href])"
   ]
  },
  {
   "cell_type": "code",
   "execution_count": 9,
   "metadata": {},
   "outputs": [
    {
     "data": {
      "text/plain": [
       "[[10,\n",
       "  \"Assassin's Creed Origins\",\n",
       "  'Xbox One X',\n",
       "  '3030-59450',\n",
       "  '/assassins-creed-origins/3030-59450/'],\n",
       " [9, 'Splatoon 2', 'Switch', '3030-57687', '/splatoon-2/3030-57687/'],\n",
       " [8, 'Heat Signature', 'PC', '3030-48255', '/heat-signature/3030-48255/'],\n",
       " [7,\n",
       "  'Tekken 7 ',\n",
       "  'PS4, PC',\n",
       "  '3030-51837',\n",
       "  '/tekken-7-fated-retribution/3030-51837/'],\n",
       " [6, 'Destiny 2', 'PS4, PC', '3030-52647', '/destiny-2/3030-52647/'],\n",
       " [5,\n",
       "  'Wolfenstein II: The New Colossus',\n",
       "  'Xbox One',\n",
       "  '3030-59906',\n",
       "  '/wolfenstein-ii-the-new-colossus/3030-59906/'],\n",
       " [4, 'SteamWorld Dig 2', 'PC', '3030-58593', '/steamworld-dig-2/3030-58593/'],\n",
       " [3,\n",
       "  'Super Mario Odyssey',\n",
       "  'Switch',\n",
       "  '3030-56733',\n",
       "  '/super-mario-odyssey/3030-56733/'],\n",
       " [2, 'NieR:Automata', 'PC', '3030-49998', '/nier-automata/3030-49998/'],\n",
       " [1,\n",
       "  \"PlayerUnknown's Battlegrounds\",\n",
       "  'PC',\n",
       "  '3030-54979',\n",
       "  '/playerunknowns-battlegrounds/3030-54979/']]"
      ]
     },
     "execution_count": 9,
     "metadata": {},
     "output_type": "execute_result"
    }
   ],
   "source": [
    "headers_processed = [extract_info(x) for x in headers[:10]]\n",
    "headers_processed"
   ]
  },
  {
   "cell_type": "markdown",
   "metadata": {},
   "source": [
    "### Convert the nested list into a pandas dataframe"
   ]
  },
  {
   "cell_type": "code",
   "execution_count": 10,
   "metadata": {},
   "outputs": [
    {
     "data": {
      "text/html": [
       "<div>\n",
       "<style scoped>\n",
       "    .dataframe tbody tr th:only-of-type {\n",
       "        vertical-align: middle;\n",
       "    }\n",
       "\n",
       "    .dataframe tbody tr th {\n",
       "        vertical-align: top;\n",
       "    }\n",
       "\n",
       "    .dataframe thead th {\n",
       "        text-align: right;\n",
       "    }\n",
       "</style>\n",
       "<table border=\"1\" class=\"dataframe\">\n",
       "  <thead>\n",
       "    <tr style=\"text-align: right;\">\n",
       "      <th></th>\n",
       "      <th>rank</th>\n",
       "      <th>game</th>\n",
       "      <th>platform</th>\n",
       "      <th>data_ref_id</th>\n",
       "      <th>href</th>\n",
       "    </tr>\n",
       "  </thead>\n",
       "  <tbody>\n",
       "    <tr>\n",
       "      <th>9</th>\n",
       "      <td>1</td>\n",
       "      <td>PlayerUnknown's Battlegrounds</td>\n",
       "      <td>PC</td>\n",
       "      <td>3030-54979</td>\n",
       "      <td>/playerunknowns-battlegrounds/3030-54979/</td>\n",
       "    </tr>\n",
       "    <tr>\n",
       "      <th>8</th>\n",
       "      <td>2</td>\n",
       "      <td>NieR:Automata</td>\n",
       "      <td>PC</td>\n",
       "      <td>3030-49998</td>\n",
       "      <td>/nier-automata/3030-49998/</td>\n",
       "    </tr>\n",
       "    <tr>\n",
       "      <th>7</th>\n",
       "      <td>3</td>\n",
       "      <td>Super Mario Odyssey</td>\n",
       "      <td>Switch</td>\n",
       "      <td>3030-56733</td>\n",
       "      <td>/super-mario-odyssey/3030-56733/</td>\n",
       "    </tr>\n",
       "    <tr>\n",
       "      <th>6</th>\n",
       "      <td>4</td>\n",
       "      <td>SteamWorld Dig 2</td>\n",
       "      <td>PC</td>\n",
       "      <td>3030-58593</td>\n",
       "      <td>/steamworld-dig-2/3030-58593/</td>\n",
       "    </tr>\n",
       "    <tr>\n",
       "      <th>5</th>\n",
       "      <td>5</td>\n",
       "      <td>Wolfenstein II: The New Colossus</td>\n",
       "      <td>Xbox One</td>\n",
       "      <td>3030-59906</td>\n",
       "      <td>/wolfenstein-ii-the-new-colossus/3030-59906/</td>\n",
       "    </tr>\n",
       "    <tr>\n",
       "      <th>4</th>\n",
       "      <td>6</td>\n",
       "      <td>Destiny 2</td>\n",
       "      <td>PS4, PC</td>\n",
       "      <td>3030-52647</td>\n",
       "      <td>/destiny-2/3030-52647/</td>\n",
       "    </tr>\n",
       "    <tr>\n",
       "      <th>3</th>\n",
       "      <td>7</td>\n",
       "      <td>Tekken 7</td>\n",
       "      <td>PS4, PC</td>\n",
       "      <td>3030-51837</td>\n",
       "      <td>/tekken-7-fated-retribution/3030-51837/</td>\n",
       "    </tr>\n",
       "    <tr>\n",
       "      <th>2</th>\n",
       "      <td>8</td>\n",
       "      <td>Heat Signature</td>\n",
       "      <td>PC</td>\n",
       "      <td>3030-48255</td>\n",
       "      <td>/heat-signature/3030-48255/</td>\n",
       "    </tr>\n",
       "    <tr>\n",
       "      <th>1</th>\n",
       "      <td>9</td>\n",
       "      <td>Splatoon 2</td>\n",
       "      <td>Switch</td>\n",
       "      <td>3030-57687</td>\n",
       "      <td>/splatoon-2/3030-57687/</td>\n",
       "    </tr>\n",
       "    <tr>\n",
       "      <th>0</th>\n",
       "      <td>10</td>\n",
       "      <td>Assassin's Creed Origins</td>\n",
       "      <td>Xbox One X</td>\n",
       "      <td>3030-59450</td>\n",
       "      <td>/assassins-creed-origins/3030-59450/</td>\n",
       "    </tr>\n",
       "  </tbody>\n",
       "</table>\n",
       "</div>"
      ],
      "text/plain": [
       "   rank                              game    platform data_ref_id  \\\n",
       "9     1     PlayerUnknown's Battlegrounds          PC  3030-54979   \n",
       "8     2                     NieR:Automata          PC  3030-49998   \n",
       "7     3               Super Mario Odyssey      Switch  3030-56733   \n",
       "6     4                  SteamWorld Dig 2          PC  3030-58593   \n",
       "5     5  Wolfenstein II: The New Colossus    Xbox One  3030-59906   \n",
       "4     6                         Destiny 2     PS4, PC  3030-52647   \n",
       "3     7                         Tekken 7      PS4, PC  3030-51837   \n",
       "2     8                    Heat Signature          PC  3030-48255   \n",
       "1     9                        Splatoon 2      Switch  3030-57687   \n",
       "0    10          Assassin's Creed Origins  Xbox One X  3030-59450   \n",
       "\n",
       "                                           href  \n",
       "9     /playerunknowns-battlegrounds/3030-54979/  \n",
       "8                    /nier-automata/3030-49998/  \n",
       "7              /super-mario-odyssey/3030-56733/  \n",
       "6                 /steamworld-dig-2/3030-58593/  \n",
       "5  /wolfenstein-ii-the-new-colossus/3030-59906/  \n",
       "4                        /destiny-2/3030-52647/  \n",
       "3       /tekken-7-fated-retribution/3030-51837/  \n",
       "2                   /heat-signature/3030-48255/  \n",
       "1                       /splatoon-2/3030-57687/  \n",
       "0          /assassins-creed-origins/3030-59450/  "
      ]
     },
     "execution_count": 10,
     "metadata": {},
     "output_type": "execute_result"
    }
   ],
   "source": [
    "headers_processed_pd = pd.DataFrame(headers_processed, columns = [\"rank\", \"game\", \"platform\", \"data_ref_id\", \"href\"])\n",
    "headers_processed_pd.sort_values(\"rank\")"
   ]
  }
 ],
 "metadata": {
  "kernelspec": {
   "display_name": "Python 3",
   "language": "python",
   "name": "python3"
  },
  "language_info": {
   "codemirror_mode": {
    "name": "ipython",
    "version": 3
   },
   "file_extension": ".py",
   "mimetype": "text/x-python",
   "name": "python",
   "nbconvert_exporter": "python",
   "pygments_lexer": "ipython3",
   "version": "3.6.4"
  },
  "toc": {
   "nav_menu": {},
   "number_sections": true,
   "sideBar": true,
   "skip_h1_title": false,
   "toc_cell": false,
   "toc_position": {},
   "toc_section_display": "block",
   "toc_window_display": true
  }
 },
 "nbformat": 4,
 "nbformat_minor": 2
}
